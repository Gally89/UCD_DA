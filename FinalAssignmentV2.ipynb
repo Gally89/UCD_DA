{
 "cells": [
  {
   "cell_type": "code",
   "execution_count": 1,
   "id": "e8f29c42",
   "metadata": {},
   "outputs": [],
   "source": [
    "import pandas as pd\n",
    "import numpy as np\n",
    "import matplotlib.pyplot as plt\n",
    "from matplotlib import cycler\n",
    "import seaborn as sns\n",
    "import time\n",
    "from pandas_datareader.data import DataReader\n",
    "from datetime import datetime\n",
    "from yahoo_fin.stock_info import get_data\n",
    "from sklearn.model_selection import train_test_split\n",
    "from sklearn.linear_model import LinearRegression"
   ]
  },
  {
   "cell_type": "code",
   "execution_count": 2,
   "id": "c356e022",
   "metadata": {},
   "outputs": [],
   "source": [
    "Bitcoin= get_data(\"BTC-USD\", start_date=\"01/01/2021\", end_date=None, index_as_date = False, interval=\"1d\")\n",
    "NVIDIA= get_data(\"NVDA\", start_date=\"01/01/2021\", end_date=None, index_as_date = False, interval=\"1d\")\n",
    "AMD= get_data(\"AMD\", start_date=\"01/01/2021\", end_date=None, index_as_date = False, interval=\"1d\")"
   ]
  },
  {
   "cell_type": "code",
   "execution_count": 3,
   "id": "e24b4023",
   "metadata": {},
   "outputs": [],
   "source": [
    "Bitcoin = Bitcoin[['date', 'close']]\n",
    "NVIDIA = NVIDIA[['date', 'close']]\n",
    "AMD = AMD[['date', 'close']]"
   ]
  },
  {
   "cell_type": "code",
   "execution_count": 4,
   "id": "e46bbac6",
   "metadata": {},
   "outputs": [
    {
     "name": "stdout",
     "output_type": "stream",
     "text": [
      "          date         close\n",
      "0   2021-01-01  29374.152344\n",
      "1   2021-01-02  32127.267578\n",
      "2   2021-01-03  32782.023438\n",
      "3   2021-01-04  31971.914062\n",
      "4   2021-01-05  33992.429688\n",
      "..         ...           ...\n",
      "687 2022-11-19  16711.546875\n",
      "688 2022-11-20  16291.832031\n",
      "689 2022-11-21  15787.284180\n",
      "690 2022-11-22  16189.769531\n",
      "691 2022-11-23  16469.292969\n",
      "\n",
      "[692 rows x 2 columns]\n"
     ]
    }
   ],
   "source": [
    "print(Bitcoin)"
   ]
  },
  {
   "cell_type": "code",
   "execution_count": 5,
   "id": "433843a3",
   "metadata": {},
   "outputs": [
    {
     "data": {
      "text/html": [
       "<div>\n",
       "<style scoped>\n",
       "    .dataframe tbody tr th:only-of-type {\n",
       "        vertical-align: middle;\n",
       "    }\n",
       "\n",
       "    .dataframe tbody tr th {\n",
       "        vertical-align: top;\n",
       "    }\n",
       "\n",
       "    .dataframe thead th {\n",
       "        text-align: right;\n",
       "    }\n",
       "</style>\n",
       "<table border=\"1\" class=\"dataframe\">\n",
       "  <thead>\n",
       "    <tr style=\"text-align: right;\">\n",
       "      <th></th>\n",
       "      <th>Date</th>\n",
       "      <th>Bitcoin_Closing</th>\n",
       "    </tr>\n",
       "  </thead>\n",
       "  <tbody>\n",
       "    <tr>\n",
       "      <th>682</th>\n",
       "      <td>2022-11-14</td>\n",
       "      <td>16618.199219</td>\n",
       "    </tr>\n",
       "    <tr>\n",
       "      <th>683</th>\n",
       "      <td>2022-11-15</td>\n",
       "      <td>16884.613281</td>\n",
       "    </tr>\n",
       "    <tr>\n",
       "      <th>684</th>\n",
       "      <td>2022-11-16</td>\n",
       "      <td>16669.439453</td>\n",
       "    </tr>\n",
       "    <tr>\n",
       "      <th>685</th>\n",
       "      <td>2022-11-17</td>\n",
       "      <td>16687.517578</td>\n",
       "    </tr>\n",
       "    <tr>\n",
       "      <th>686</th>\n",
       "      <td>2022-11-18</td>\n",
       "      <td>16697.777344</td>\n",
       "    </tr>\n",
       "    <tr>\n",
       "      <th>687</th>\n",
       "      <td>2022-11-19</td>\n",
       "      <td>16711.546875</td>\n",
       "    </tr>\n",
       "    <tr>\n",
       "      <th>688</th>\n",
       "      <td>2022-11-20</td>\n",
       "      <td>16291.832031</td>\n",
       "    </tr>\n",
       "    <tr>\n",
       "      <th>689</th>\n",
       "      <td>2022-11-21</td>\n",
       "      <td>15787.284180</td>\n",
       "    </tr>\n",
       "    <tr>\n",
       "      <th>690</th>\n",
       "      <td>2022-11-22</td>\n",
       "      <td>16189.769531</td>\n",
       "    </tr>\n",
       "    <tr>\n",
       "      <th>691</th>\n",
       "      <td>2022-11-23</td>\n",
       "      <td>16469.292969</td>\n",
       "    </tr>\n",
       "  </tbody>\n",
       "</table>\n",
       "</div>"
      ],
      "text/plain": [
       "          Date  Bitcoin_Closing\n",
       "682 2022-11-14     16618.199219\n",
       "683 2022-11-15     16884.613281\n",
       "684 2022-11-16     16669.439453\n",
       "685 2022-11-17     16687.517578\n",
       "686 2022-11-18     16697.777344\n",
       "687 2022-11-19     16711.546875\n",
       "688 2022-11-20     16291.832031\n",
       "689 2022-11-21     15787.284180\n",
       "690 2022-11-22     16189.769531\n",
       "691 2022-11-23     16469.292969"
      ]
     },
     "execution_count": 5,
     "metadata": {},
     "output_type": "execute_result"
    }
   ],
   "source": [
    "Bitcoin.columns = ['Date', 'Bitcoin_Closing']\n",
    "NVIDIA.columns = ['Date', 'NVIDIA_Closing']\n",
    "AMD.columns = ['Date', 'AMD_Closing']\n",
    "Bitcoin.tail(10)"
   ]
  },
  {
   "cell_type": "code",
   "execution_count": 6,
   "id": "f18c3353",
   "metadata": {},
   "outputs": [
    {
     "name": "stdout",
     "output_type": "stream",
     "text": [
      "        Date  AMD_Closing\n",
      "0 2021-01-04    92.300003\n",
      "1 2021-01-05    92.769997\n",
      "2 2021-01-06    90.330002\n",
      "3 2021-01-07    95.160004\n",
      "4 2021-01-08    94.580002\n"
     ]
    }
   ],
   "source": [
    "print(AMD.head())"
   ]
  },
  {
   "cell_type": "code",
   "execution_count": 7,
   "id": "e20722df",
   "metadata": {
    "scrolled": true
   },
   "outputs": [
    {
     "name": "stdout",
     "output_type": "stream",
     "text": [
      "        Date  NVIDIA_Closing\n",
      "0 2021-01-04      131.134995\n",
      "1 2021-01-05      134.047501\n",
      "2 2021-01-06      126.144997\n",
      "3 2021-01-07      133.440002\n",
      "4 2021-01-08      132.767502\n"
     ]
    }
   ],
   "source": [
    "print(NVIDIA.head())"
   ]
  },
  {
   "cell_type": "code",
   "execution_count": 8,
   "id": "a497c3ad",
   "metadata": {},
   "outputs": [
    {
     "name": "stdout",
     "output_type": "stream",
     "text": [
      "[[[Timestamp('2021-01-04 00:00:00') 92.30000305175781]\n",
      "  [Timestamp('2021-01-05 00:00:00') 92.7699966430664]\n",
      "  [Timestamp('2021-01-06 00:00:00') 90.33000183105469]\n",
      "  ...\n",
      "  [Timestamp('2022-11-21 00:00:00') 72.45999908447266]\n",
      "  [Timestamp('2022-11-22 00:00:00') 75.25]\n",
      "  [Timestamp('2022-11-23 00:00:00') 76.12100219726562]]\n",
      "\n",
      " [[Timestamp('2021-01-04 00:00:00') 131.13499450683594]\n",
      "  [Timestamp('2021-01-05 00:00:00') 134.04750061035156]\n",
      "  [Timestamp('2021-01-06 00:00:00') 126.1449966430664]\n",
      "  ...\n",
      "  [Timestamp('2022-11-21 00:00:00') 153.1699981689453]\n",
      "  [Timestamp('2022-11-22 00:00:00') 160.3800048828125]\n",
      "  [Timestamp('2022-11-23 00:00:00') 164.07000732421875]]]\n"
     ]
    }
   ],
   "source": [
    "SP_array_head = np.array([AMD,NVIDIA])\n",
    "print(SP_array_head)"
   ]
  },
  {
   "cell_type": "code",
   "execution_count": 9,
   "id": "f018a230",
   "metadata": {},
   "outputs": [],
   "source": [
    "#Importing GPU Price Dataframes\n",
    "AMD_6700XT = pd.read_csv(r'6700XT.csv', sep=';')\n",
    "AMD_6800XT = pd.read_csv(r'6800XT.csv', sep=';')\n",
    "AMD_6900XT = pd.read_csv(r'6900XT.csv', sep=';')\n",
    "RTX3070 = pd.read_csv(r'RTX3070.csv', sep=';')\n",
    "RTX3080 = pd.read_csv(r'RTX3080.csv', sep=';')\n",
    "RTX3090 = pd.read_csv(r'RTX3090.csv', sep=';')"
   ]
  },
  {
   "cell_type": "code",
   "execution_count": 10,
   "id": "31dc7af4",
   "metadata": {},
   "outputs": [
    {
     "name": "stdout",
     "output_type": "stream",
     "text": [
      "['AMD', 'NVIDIA']\n"
     ]
    }
   ],
   "source": [
    "#Lists\n",
    "MANUFACTURERS = ['AMD', 'NVIDIA']\n",
    "AMD_GPUs = ['AMD_6700XT', 'AMD_6800XT', 'AMD_6900XT']\n",
    "NVIDIA_GPUs = ['RTX3070', 'RTX3080', 'RTX3090']\n",
    "print(MANUFACTURERS)"
   ]
  },
  {
   "cell_type": "code",
   "execution_count": 11,
   "id": "01475755",
   "metadata": {},
   "outputs": [],
   "source": [
    "#Dictionary of Lists\n",
    "GPU_Breakdown = {'Manufacturer':['AMD', 'AMD', 'AMD', 'NVIDIA', 'NVIDIA', 'NVIDIA'],\n",
    "                    'GPU Type':['6700XT','6800XT', '6900XT', 'RTX3070', 'RTX3080', 'RTX3090'],\n",
    "                    'Release Date': ['March 2021', 'October 2020', 'October 2020', 'October 2020', 'September 2020', 'September 2020']}"
   ]
  },
  {
   "cell_type": "code",
   "execution_count": 12,
   "id": "bbf88d8d",
   "metadata": {
    "scrolled": false
   },
   "outputs": [
    {
     "data": {
      "text/html": [
       "<div>\n",
       "<style scoped>\n",
       "    .dataframe tbody tr th:only-of-type {\n",
       "        vertical-align: middle;\n",
       "    }\n",
       "\n",
       "    .dataframe tbody tr th {\n",
       "        vertical-align: top;\n",
       "    }\n",
       "\n",
       "    .dataframe thead th {\n",
       "        text-align: right;\n",
       "    }\n",
       "</style>\n",
       "<table border=\"1\" class=\"dataframe\">\n",
       "  <thead>\n",
       "    <tr style=\"text-align: right;\">\n",
       "      <th></th>\n",
       "      <th>Manufacturer</th>\n",
       "      <th>GPU Type</th>\n",
       "      <th>Release Date</th>\n",
       "    </tr>\n",
       "  </thead>\n",
       "  <tbody>\n",
       "    <tr>\n",
       "      <th>0</th>\n",
       "      <td>AMD</td>\n",
       "      <td>6700XT</td>\n",
       "      <td>March 2021</td>\n",
       "    </tr>\n",
       "    <tr>\n",
       "      <th>1</th>\n",
       "      <td>AMD</td>\n",
       "      <td>6800XT</td>\n",
       "      <td>October 2020</td>\n",
       "    </tr>\n",
       "    <tr>\n",
       "      <th>2</th>\n",
       "      <td>AMD</td>\n",
       "      <td>6900XT</td>\n",
       "      <td>October 2020</td>\n",
       "    </tr>\n",
       "    <tr>\n",
       "      <th>3</th>\n",
       "      <td>NVIDIA</td>\n",
       "      <td>RTX3070</td>\n",
       "      <td>October 2020</td>\n",
       "    </tr>\n",
       "    <tr>\n",
       "      <th>4</th>\n",
       "      <td>NVIDIA</td>\n",
       "      <td>RTX3080</td>\n",
       "      <td>September 2020</td>\n",
       "    </tr>\n",
       "    <tr>\n",
       "      <th>5</th>\n",
       "      <td>NVIDIA</td>\n",
       "      <td>RTX3090</td>\n",
       "      <td>September 2020</td>\n",
       "    </tr>\n",
       "  </tbody>\n",
       "</table>\n",
       "</div>"
      ],
      "text/plain": [
       "  Manufacturer GPU Type    Release Date\n",
       "0          AMD   6700XT      March 2021\n",
       "1          AMD   6800XT    October 2020\n",
       "2          AMD   6900XT    October 2020\n",
       "3       NVIDIA  RTX3070    October 2020\n",
       "4       NVIDIA  RTX3080  September 2020\n",
       "5       NVIDIA  RTX3090  September 2020"
      ]
     },
     "execution_count": 12,
     "metadata": {},
     "output_type": "execute_result"
    }
   ],
   "source": [
    "pd.DataFrame(GPU_Breakdown)"
   ]
  },
  {
   "cell_type": "code",
   "execution_count": 13,
   "id": "1c05bd66",
   "metadata": {
    "scrolled": true
   },
   "outputs": [
    {
     "name": "stdout",
     "output_type": "stream",
     "text": [
      "         Date  MSI RX 6700 XT GAMING X 12G\n",
      "0  2021-04-02                      1195.45\n",
      "1  2021-04-03                      1098.67\n",
      "2  2021-04-04                      1097.51\n",
      "3  2021-04-05                      1092.74\n",
      "4  2021-04-06                      1076.74\n"
     ]
    }
   ],
   "source": [
    "print(AMD_6700XT.head())"
   ]
  },
  {
   "cell_type": "code",
   "execution_count": 14,
   "id": "0eee7dc4",
   "metadata": {},
   "outputs": [
    {
     "name": "stdout",
     "output_type": "stream",
     "text": [
      "         Date  MSI RX 6800 XT GAMING X TRIO 16G\n",
      "0  2020-12-31                            2030.0\n",
      "1  2021-01-01                            2030.0\n",
      "2  2021-01-02                            2030.0\n",
      "3  2021-01-03                            2030.0\n",
      "4  2021-01-04                            2030.0\n"
     ]
    }
   ],
   "source": [
    "print(AMD_6800XT.head())"
   ]
  },
  {
   "cell_type": "code",
   "execution_count": 15,
   "id": "a8ffe89c",
   "metadata": {},
   "outputs": [
    {
     "name": "stdout",
     "output_type": "stream",
     "text": [
      "         Date  MSI RX 6900 XT GAMING X TRIO 16G\n",
      "0  2021-01-19                           2495.00\n",
      "1  2021-01-20                           2399.50\n",
      "2  2021-01-21                           1588.64\n",
      "3  2021-01-22                           1585.66\n",
      "4  2021-01-23                           1780.99\n"
     ]
    }
   ],
   "source": [
    "print(AMD_6900XT.head())"
   ]
  },
  {
   "cell_type": "code",
   "execution_count": 16,
   "id": "4d0f46f0",
   "metadata": {},
   "outputs": [
    {
     "name": "stdout",
     "output_type": "stream",
     "text": [
      "         Date  MSI GEFORCE RTX 3070 SUPRIM X 8G\n",
      "0  2020-11-13                            999.66\n",
      "1  2020-11-14                           1038.00\n",
      "2  2020-11-15                           1038.00\n",
      "3  2020-11-16                           1038.00\n",
      "4  2020-11-17                            976.33\n"
     ]
    }
   ],
   "source": [
    "print(RTX3070.head())"
   ]
  },
  {
   "cell_type": "code",
   "execution_count": 17,
   "id": "b24e1376",
   "metadata": {},
   "outputs": [
    {
     "name": "stdout",
     "output_type": "stream",
     "text": [
      "         Date  MSI GEFORCE RTX 3080 SUPRIM X 10G\n",
      "0  2020-11-13                            1449.00\n",
      "1  2020-11-14                            1439.99\n",
      "2  2020-11-15                            1399.99\n",
      "3  2020-11-16                            1099.00\n",
      "4  2020-11-17                            1099.00\n"
     ]
    }
   ],
   "source": [
    "print(RTX3080.head())"
   ]
  },
  {
   "cell_type": "code",
   "execution_count": 18,
   "id": "8bdd1b36",
   "metadata": {},
   "outputs": [
    {
     "name": "stdout",
     "output_type": "stream",
     "text": [
      "         Date  MSI GEFORCE RTX 3090 SUPRIM X 24G\n",
      "0  2020-11-18                            2540.85\n",
      "1  2020-11-19                            2412.42\n",
      "2  2020-11-20                            2406.91\n",
      "3  2020-11-21                            2385.42\n",
      "4  2020-11-22                            2428.27\n"
     ]
    }
   ],
   "source": [
    "print(RTX3090.head())"
   ]
  },
  {
   "cell_type": "code",
   "execution_count": 19,
   "id": "0fdac6e1",
   "metadata": {},
   "outputs": [],
   "source": [
    "Bitcoin['Date'] = pd.to_datetime(Bitcoin['Date'])\n",
    "AMD['Date'] = pd.to_datetime(AMD['Date'])\n",
    "NVIDIA['Date'] = pd.to_datetime(NVIDIA['Date'])\n",
    "AMD_6700XT['Date'] = pd.to_datetime(AMD_6700XT['Date'])\n",
    "AMD_6800XT['Date'] = pd.to_datetime(AMD_6800XT['Date'])\n",
    "AMD_6900XT['Date'] = pd.to_datetime(AMD_6900XT['Date'])\n",
    "RTX3070['Date'] = pd.to_datetime(RTX3070['Date'])\n",
    "RTX3080['Date'] = pd.to_datetime(RTX3080['Date'])\n",
    "RTX3090['Date'] = pd.to_datetime(RTX3090['Date'])"
   ]
  },
  {
   "cell_type": "code",
   "execution_count": 20,
   "id": "07a467b6",
   "metadata": {},
   "outputs": [
    {
     "name": "stdout",
     "output_type": "stream",
     "text": [
      "          Date\n",
      "0   2021-01-01\n",
      "1   2021-01-02\n",
      "2   2021-01-03\n",
      "3   2021-01-04\n",
      "4   2021-01-05\n",
      "..         ...\n",
      "675 2022-11-07\n",
      "676 2022-11-08\n",
      "677 2022-11-09\n",
      "678 2022-11-10\n",
      "679 2022-11-11\n",
      "\n",
      "[680 rows x 1 columns]\n"
     ]
    }
   ],
   "source": [
    "DateRange = pd.DataFrame({'Date':pd.date_range(start ='2021-01-01', end ='2022-11-11')})\n",
    "print(DateRange)"
   ]
  },
  {
   "cell_type": "code",
   "execution_count": 21,
   "id": "e6eb81cf",
   "metadata": {},
   "outputs": [],
   "source": [
    "df1 = pd.merge(DateRange, Bitcoin, on='Date', how='left')\n",
    "df2 = pd.merge(df1, AMD, on='Date', how='left')\n",
    "Stock_Prices = pd.merge(df2, NVIDIA, on='Date', how='left')"
   ]
  },
  {
   "cell_type": "code",
   "execution_count": 22,
   "id": "ee3b8945",
   "metadata": {
    "scrolled": true
   },
   "outputs": [
    {
     "name": "stdout",
     "output_type": "stream",
     "text": [
      "          Date  Bitcoin_Closing  AMD_Closing  NVIDIA_Closing\n",
      "0   2021-01-01     29374.152344          NaN             NaN\n",
      "1   2021-01-02     32127.267578          NaN             NaN\n",
      "2   2021-01-03     32782.023438          NaN             NaN\n",
      "3   2021-01-04     31971.914062    92.300003      131.134995\n",
      "4   2021-01-05     33992.429688    92.769997      134.047501\n",
      "..         ...              ...          ...             ...\n",
      "675 2022-11-07     20602.816406    63.080002      143.009995\n",
      "676 2022-11-08     18541.271484    63.849998      146.020004\n",
      "677 2022-11-09     15880.780273    59.919998      137.759995\n",
      "678 2022-11-10     17586.771484    68.470001      157.500000\n",
      "679 2022-11-11     17034.292969    72.370003      163.270004\n",
      "\n",
      "[680 rows x 4 columns]\n"
     ]
    }
   ],
   "source": [
    "print(Stock_Prices)"
   ]
  },
  {
   "cell_type": "code",
   "execution_count": 23,
   "id": "3784c7ef",
   "metadata": {},
   "outputs": [],
   "source": [
    "df3 = pd.merge(DateRange, AMD_6700XT, on='Date', how='left')\n",
    "df4 = pd.merge(df3, AMD_6800XT, on='Date', how='left')\n",
    "AMD_GPU_Prices = pd.merge(df4, AMD_6900XT, on='Date', how='left')"
   ]
  },
  {
   "cell_type": "code",
   "execution_count": 24,
   "id": "c5d535bf",
   "metadata": {},
   "outputs": [
    {
     "name": "stdout",
     "output_type": "stream",
     "text": [
      "          Date  MSI RX 6700 XT GAMING X 12G  MSI RX 6800 XT GAMING X TRIO 16G  \\\n",
      "0   2021-01-01                          NaN                           2030.00   \n",
      "1   2021-01-02                          NaN                           2030.00   \n",
      "2   2021-01-03                          NaN                           2030.00   \n",
      "3   2021-01-04                          NaN                           2030.00   \n",
      "4   2021-01-05                          NaN                           2030.00   \n",
      "..         ...                          ...                               ...   \n",
      "675 2022-11-07                       587.58                            857.68   \n",
      "676 2022-11-08                       587.58                            857.68   \n",
      "677 2022-11-09                       581.08                            817.20   \n",
      "678 2022-11-10                       587.72                            846.30   \n",
      "679 2022-11-11                       585.60                            834.76   \n",
      "\n",
      "     MSI RX 6900 XT GAMING X TRIO 16G  \n",
      "0                                 NaN  \n",
      "1                                 NaN  \n",
      "2                                 NaN  \n",
      "3                                 NaN  \n",
      "4                                 NaN  \n",
      "..                                ...  \n",
      "675                           1085.57  \n",
      "676                           1085.57  \n",
      "677                           1052.69  \n",
      "678                           1078.59  \n",
      "679                           1071.07  \n",
      "\n",
      "[680 rows x 4 columns]\n"
     ]
    }
   ],
   "source": [
    "print(AMD_GPU_Prices)"
   ]
  },
  {
   "cell_type": "code",
   "execution_count": 25,
   "id": "8ddf69e7",
   "metadata": {},
   "outputs": [],
   "source": [
    "df5 = pd.merge(DateRange, RTX3070, on='Date', how='left')\n",
    "df6 = pd.merge(df5, RTX3080, on='Date', how='left')\n",
    "NVIDIA_GPU_Prices = pd.merge(df6, RTX3090, on='Date', how='left')"
   ]
  },
  {
   "cell_type": "code",
   "execution_count": 26,
   "id": "0660ec8c",
   "metadata": {},
   "outputs": [
    {
     "name": "stdout",
     "output_type": "stream",
     "text": [
      "          Date  MSI GEFORCE RTX 3070 SUPRIM X 8G  \\\n",
      "0   2021-01-01                            924.11   \n",
      "1   2021-01-02                            924.11   \n",
      "2   2021-01-03                            924.11   \n",
      "3   2021-01-04                            924.11   \n",
      "4   2021-01-05                            924.11   \n",
      "..         ...                               ...   \n",
      "675 2022-11-07                            714.19   \n",
      "676 2022-11-08                            714.19   \n",
      "677 2022-11-09                            705.95   \n",
      "678 2022-11-10                            713.09   \n",
      "679 2022-11-11                            719.35   \n",
      "\n",
      "     MSI GEFORCE RTX 3080 SUPRIM X 10G  MSI GEFORCE RTX 3090 SUPRIM X 24G  \n",
      "0                              1357.46                            2344.08  \n",
      "1                              1357.46                            2344.08  \n",
      "2                              1357.46                            2344.08  \n",
      "3                              1357.46                            2344.08  \n",
      "4                              1357.46                            2344.08  \n",
      "..                                 ...                                ...  \n",
      "675                             984.14                            1824.67  \n",
      "676                             984.14                            1824.67  \n",
      "677                             965.86                            1886.04  \n",
      "678                             999.79                            1807.62  \n",
      "679                            1003.62                            1822.68  \n",
      "\n",
      "[680 rows x 4 columns]\n"
     ]
    }
   ],
   "source": [
    "print(NVIDIA_GPU_Prices)"
   ]
  },
  {
   "cell_type": "code",
   "execution_count": 27,
   "id": "f0abb5c4",
   "metadata": {},
   "outputs": [],
   "source": [
    "GPU_Prices = pd.merge(AMD_GPU_Prices, NVIDIA_GPU_Prices, on='Date', how='left')"
   ]
  },
  {
   "cell_type": "code",
   "execution_count": 28,
   "id": "f11ec938",
   "metadata": {
    "scrolled": false
   },
   "outputs": [
    {
     "name": "stdout",
     "output_type": "stream",
     "text": [
      "          Date  MSI RX 6700 XT GAMING X 12G  MSI RX 6800 XT GAMING X TRIO 16G  \\\n",
      "0   2021-01-01                          NaN                           2030.00   \n",
      "1   2021-01-02                          NaN                           2030.00   \n",
      "2   2021-01-03                          NaN                           2030.00   \n",
      "3   2021-01-04                          NaN                           2030.00   \n",
      "4   2021-01-05                          NaN                           2030.00   \n",
      "..         ...                          ...                               ...   \n",
      "675 2022-11-07                       587.58                            857.68   \n",
      "676 2022-11-08                       587.58                            857.68   \n",
      "677 2022-11-09                       581.08                            817.20   \n",
      "678 2022-11-10                       587.72                            846.30   \n",
      "679 2022-11-11                       585.60                            834.76   \n",
      "\n",
      "     MSI RX 6900 XT GAMING X TRIO 16G  MSI GEFORCE RTX 3070 SUPRIM X 8G  \\\n",
      "0                                 NaN                            924.11   \n",
      "1                                 NaN                            924.11   \n",
      "2                                 NaN                            924.11   \n",
      "3                                 NaN                            924.11   \n",
      "4                                 NaN                            924.11   \n",
      "..                                ...                               ...   \n",
      "675                           1085.57                            714.19   \n",
      "676                           1085.57                            714.19   \n",
      "677                           1052.69                            705.95   \n",
      "678                           1078.59                            713.09   \n",
      "679                           1071.07                            719.35   \n",
      "\n",
      "     MSI GEFORCE RTX 3080 SUPRIM X 10G  MSI GEFORCE RTX 3090 SUPRIM X 24G  \n",
      "0                              1357.46                            2344.08  \n",
      "1                              1357.46                            2344.08  \n",
      "2                              1357.46                            2344.08  \n",
      "3                              1357.46                            2344.08  \n",
      "4                              1357.46                            2344.08  \n",
      "..                                 ...                                ...  \n",
      "675                             984.14                            1824.67  \n",
      "676                             984.14                            1824.67  \n",
      "677                             965.86                            1886.04  \n",
      "678                             999.79                            1807.62  \n",
      "679                            1003.62                            1822.68  \n",
      "\n",
      "[680 rows x 7 columns]\n"
     ]
    }
   ],
   "source": [
    "print(GPU_Prices)"
   ]
  },
  {
   "cell_type": "code",
   "execution_count": 29,
   "id": "9024f593",
   "metadata": {},
   "outputs": [
    {
     "data": {
      "text/plain": [
       "Date                 0\n",
       "Bitcoin_Closing      0\n",
       "AMD_Closing        210\n",
       "NVIDIA_Closing     210\n",
       "dtype: int64"
      ]
     },
     "execution_count": 29,
     "metadata": {},
     "output_type": "execute_result"
    }
   ],
   "source": [
    "##Finding the null values in the dataframes\n",
    "np.sum(Stock_Prices.isnull())"
   ]
  },
  {
   "cell_type": "code",
   "execution_count": 30,
   "id": "21db8251",
   "metadata": {},
   "outputs": [
    {
     "data": {
      "text/html": [
       "<div>\n",
       "<style scoped>\n",
       "    .dataframe tbody tr th:only-of-type {\n",
       "        vertical-align: middle;\n",
       "    }\n",
       "\n",
       "    .dataframe tbody tr th {\n",
       "        vertical-align: top;\n",
       "    }\n",
       "\n",
       "    .dataframe thead th {\n",
       "        text-align: right;\n",
       "    }\n",
       "</style>\n",
       "<table border=\"1\" class=\"dataframe\">\n",
       "  <thead>\n",
       "    <tr style=\"text-align: right;\">\n",
       "      <th></th>\n",
       "      <th>Date</th>\n",
       "      <th>Bitcoin_Closing</th>\n",
       "      <th>AMD_Closing</th>\n",
       "      <th>NVIDIA_Closing</th>\n",
       "    </tr>\n",
       "  </thead>\n",
       "  <tbody>\n",
       "    <tr>\n",
       "      <th>670</th>\n",
       "      <td>2022-11-02</td>\n",
       "      <td>20159.503906</td>\n",
       "      <td>58.630001</td>\n",
       "      <td>132.190002</td>\n",
       "    </tr>\n",
       "    <tr>\n",
       "      <th>671</th>\n",
       "      <td>2022-11-03</td>\n",
       "      <td>20209.988281</td>\n",
       "      <td>60.110001</td>\n",
       "      <td>134.210007</td>\n",
       "    </tr>\n",
       "    <tr>\n",
       "      <th>672</th>\n",
       "      <td>2022-11-04</td>\n",
       "      <td>21147.230469</td>\n",
       "      <td>62.189999</td>\n",
       "      <td>141.559998</td>\n",
       "    </tr>\n",
       "    <tr>\n",
       "      <th>673</th>\n",
       "      <td>2022-11-05</td>\n",
       "      <td>21282.691406</td>\n",
       "      <td>NaN</td>\n",
       "      <td>NaN</td>\n",
       "    </tr>\n",
       "    <tr>\n",
       "      <th>674</th>\n",
       "      <td>2022-11-06</td>\n",
       "      <td>20926.486328</td>\n",
       "      <td>NaN</td>\n",
       "      <td>NaN</td>\n",
       "    </tr>\n",
       "    <tr>\n",
       "      <th>675</th>\n",
       "      <td>2022-11-07</td>\n",
       "      <td>20602.816406</td>\n",
       "      <td>63.080002</td>\n",
       "      <td>143.009995</td>\n",
       "    </tr>\n",
       "    <tr>\n",
       "      <th>676</th>\n",
       "      <td>2022-11-08</td>\n",
       "      <td>18541.271484</td>\n",
       "      <td>63.849998</td>\n",
       "      <td>146.020004</td>\n",
       "    </tr>\n",
       "    <tr>\n",
       "      <th>677</th>\n",
       "      <td>2022-11-09</td>\n",
       "      <td>15880.780273</td>\n",
       "      <td>59.919998</td>\n",
       "      <td>137.759995</td>\n",
       "    </tr>\n",
       "    <tr>\n",
       "      <th>678</th>\n",
       "      <td>2022-11-10</td>\n",
       "      <td>17586.771484</td>\n",
       "      <td>68.470001</td>\n",
       "      <td>157.500000</td>\n",
       "    </tr>\n",
       "    <tr>\n",
       "      <th>679</th>\n",
       "      <td>2022-11-11</td>\n",
       "      <td>17034.292969</td>\n",
       "      <td>72.370003</td>\n",
       "      <td>163.270004</td>\n",
       "    </tr>\n",
       "  </tbody>\n",
       "</table>\n",
       "</div>"
      ],
      "text/plain": [
       "          Date  Bitcoin_Closing  AMD_Closing  NVIDIA_Closing\n",
       "670 2022-11-02     20159.503906    58.630001      132.190002\n",
       "671 2022-11-03     20209.988281    60.110001      134.210007\n",
       "672 2022-11-04     21147.230469    62.189999      141.559998\n",
       "673 2022-11-05     21282.691406          NaN             NaN\n",
       "674 2022-11-06     20926.486328          NaN             NaN\n",
       "675 2022-11-07     20602.816406    63.080002      143.009995\n",
       "676 2022-11-08     18541.271484    63.849998      146.020004\n",
       "677 2022-11-09     15880.780273    59.919998      137.759995\n",
       "678 2022-11-10     17586.771484    68.470001      157.500000\n",
       "679 2022-11-11     17034.292969    72.370003      163.270004"
      ]
     },
     "execution_count": 30,
     "metadata": {},
     "output_type": "execute_result"
    }
   ],
   "source": [
    "##Finding tail columns with Null values\n",
    "Stock_Prices.tail(10)"
   ]
  },
  {
   "cell_type": "code",
   "execution_count": 31,
   "id": "cb15b93d",
   "metadata": {},
   "outputs": [],
   "source": [
    "##Filling null values with previous values\n",
    "Stock_Prices = Stock_Prices.fillna(method='ffill')"
   ]
  },
  {
   "cell_type": "code",
   "execution_count": 32,
   "id": "fd39b398",
   "metadata": {},
   "outputs": [
    {
     "data": {
      "text/html": [
       "<div>\n",
       "<style scoped>\n",
       "    .dataframe tbody tr th:only-of-type {\n",
       "        vertical-align: middle;\n",
       "    }\n",
       "\n",
       "    .dataframe tbody tr th {\n",
       "        vertical-align: top;\n",
       "    }\n",
       "\n",
       "    .dataframe thead th {\n",
       "        text-align: right;\n",
       "    }\n",
       "</style>\n",
       "<table border=\"1\" class=\"dataframe\">\n",
       "  <thead>\n",
       "    <tr style=\"text-align: right;\">\n",
       "      <th></th>\n",
       "      <th>Date</th>\n",
       "      <th>Bitcoin_Closing</th>\n",
       "      <th>AMD_Closing</th>\n",
       "      <th>NVIDIA_Closing</th>\n",
       "    </tr>\n",
       "  </thead>\n",
       "  <tbody>\n",
       "    <tr>\n",
       "      <th>670</th>\n",
       "      <td>2022-11-02</td>\n",
       "      <td>20159.503906</td>\n",
       "      <td>58.630001</td>\n",
       "      <td>132.190002</td>\n",
       "    </tr>\n",
       "    <tr>\n",
       "      <th>671</th>\n",
       "      <td>2022-11-03</td>\n",
       "      <td>20209.988281</td>\n",
       "      <td>60.110001</td>\n",
       "      <td>134.210007</td>\n",
       "    </tr>\n",
       "    <tr>\n",
       "      <th>672</th>\n",
       "      <td>2022-11-04</td>\n",
       "      <td>21147.230469</td>\n",
       "      <td>62.189999</td>\n",
       "      <td>141.559998</td>\n",
       "    </tr>\n",
       "    <tr>\n",
       "      <th>673</th>\n",
       "      <td>2022-11-05</td>\n",
       "      <td>21282.691406</td>\n",
       "      <td>62.189999</td>\n",
       "      <td>141.559998</td>\n",
       "    </tr>\n",
       "    <tr>\n",
       "      <th>674</th>\n",
       "      <td>2022-11-06</td>\n",
       "      <td>20926.486328</td>\n",
       "      <td>62.189999</td>\n",
       "      <td>141.559998</td>\n",
       "    </tr>\n",
       "    <tr>\n",
       "      <th>675</th>\n",
       "      <td>2022-11-07</td>\n",
       "      <td>20602.816406</td>\n",
       "      <td>63.080002</td>\n",
       "      <td>143.009995</td>\n",
       "    </tr>\n",
       "    <tr>\n",
       "      <th>676</th>\n",
       "      <td>2022-11-08</td>\n",
       "      <td>18541.271484</td>\n",
       "      <td>63.849998</td>\n",
       "      <td>146.020004</td>\n",
       "    </tr>\n",
       "    <tr>\n",
       "      <th>677</th>\n",
       "      <td>2022-11-09</td>\n",
       "      <td>15880.780273</td>\n",
       "      <td>59.919998</td>\n",
       "      <td>137.759995</td>\n",
       "    </tr>\n",
       "    <tr>\n",
       "      <th>678</th>\n",
       "      <td>2022-11-10</td>\n",
       "      <td>17586.771484</td>\n",
       "      <td>68.470001</td>\n",
       "      <td>157.500000</td>\n",
       "    </tr>\n",
       "    <tr>\n",
       "      <th>679</th>\n",
       "      <td>2022-11-11</td>\n",
       "      <td>17034.292969</td>\n",
       "      <td>72.370003</td>\n",
       "      <td>163.270004</td>\n",
       "    </tr>\n",
       "  </tbody>\n",
       "</table>\n",
       "</div>"
      ],
      "text/plain": [
       "          Date  Bitcoin_Closing  AMD_Closing  NVIDIA_Closing\n",
       "670 2022-11-02     20159.503906    58.630001      132.190002\n",
       "671 2022-11-03     20209.988281    60.110001      134.210007\n",
       "672 2022-11-04     21147.230469    62.189999      141.559998\n",
       "673 2022-11-05     21282.691406    62.189999      141.559998\n",
       "674 2022-11-06     20926.486328    62.189999      141.559998\n",
       "675 2022-11-07     20602.816406    63.080002      143.009995\n",
       "676 2022-11-08     18541.271484    63.849998      146.020004\n",
       "677 2022-11-09     15880.780273    59.919998      137.759995\n",
       "678 2022-11-10     17586.771484    68.470001      157.500000\n",
       "679 2022-11-11     17034.292969    72.370003      163.270004"
      ]
     },
     "execution_count": 32,
     "metadata": {},
     "output_type": "execute_result"
    }
   ],
   "source": [
    "##Viewing tail 10 columns in dataframe after filling Null values\n",
    "Stock_Prices.tail(10)"
   ]
  },
  {
   "cell_type": "code",
   "execution_count": 33,
   "id": "530b3e05",
   "metadata": {},
   "outputs": [
    {
     "data": {
      "text/plain": [
       "Text(0.5, 1.0, 'AMD GPU Prices')"
      ]
     },
     "execution_count": 33,
     "metadata": {},
     "output_type": "execute_result"
    },
    {
     "data": {
      "image/png": "[encoded data removed]",
      "text/plain": [
       "<Figure size 720x360 with 1 Axes>"
      ]
     },
     "metadata": {
      "needs_background": "light"
     },
     "output_type": "display_data"
    }
   ],
   "source": [
    "plt.subplots(figsize=(10,5))\n",
    "\n",
    "plt.plot(AMD_GPU_Prices['Date'],AMD_GPU_Prices['MSI RX 6700 XT GAMING X 12G'], color='red')\n",
    "plt.plot(AMD_GPU_Prices['Date'],AMD_GPU_Prices['MSI RX 6800 XT GAMING X TRIO 16G'], color='firebrick')\n",
    "plt.plot(AMD_GPU_Prices['Date'],AMD_GPU_Prices['MSI RX 6900 XT GAMING X TRIO 16G'], color='maroon')\n",
    "\n",
    "plt.xlabel('Date (months)')\n",
    "plt.ylabel('GPU Price')\n",
    "plt.legend([\"6700XT\", \"6800XT\", \"6900XT\"])\n",
    "plt.title('AMD GPU Prices')"
   ]
  },
  {
   "cell_type": "code",
   "execution_count": 34,
   "id": "a27bf685",
   "metadata": {},
   "outputs": [
    {
     "data": {
      "text/plain": [
       "Text(0.5, 1.0, 'NVIDIA GPU Prices')"
      ]
     },
     "execution_count": 34,
     "metadata": {},
     "output_type": "execute_result"
    },
    {
     "data": {
      "image/png": "[encoded data removed]",
      "text/plain": [
       "<Figure size 720x360 with 1 Axes>"
      ]
     },
     "metadata": {
      "needs_background": "light"
     },
     "output_type": "display_data"
    }
   ],
   "source": [
    "plt.subplots(figsize=(10,5))\n",
    "\n",
    "plt.plot(NVIDIA_GPU_Prices['Date'],NVIDIA_GPU_Prices['MSI GEFORCE RTX 3070 SUPRIM X 8G'], color='lawngreen')\n",
    "plt.plot(NVIDIA_GPU_Prices['Date'],NVIDIA_GPU_Prices['MSI GEFORCE RTX 3080 SUPRIM X 10G'], color='lime')\n",
    "plt.plot(NVIDIA_GPU_Prices['Date'],NVIDIA_GPU_Prices['MSI GEFORCE RTX 3090 SUPRIM X 24G'], color='green')\n",
    "\n",
    "plt.xlabel('Date (months)')\n",
    "plt.ylabel('GPU Price')\n",
    "plt.legend([\"RTX 3070\", \"RTX 3080\", \"RTX 3090\"])\n",
    "plt.title('NVIDIA GPU Prices')"
   ]
  },
  {
   "cell_type": "code",
   "execution_count": 35,
   "id": "fef33dee",
   "metadata": {},
   "outputs": [
    {
     "data": {
      "image/png": "[encoded data removed]",
      "text/plain": [
       "<Figure size 1440x720 with 1 Axes>"
      ]
     },
     "metadata": {
      "needs_background": "light"
     },
     "output_type": "display_data"
    }
   ],
   "source": [
    "plt.subplots(figsize=(20,10))\n",
    "plt.plot(GPU_Prices['Date'],GPU_Prices['MSI RX 6700 XT GAMING X 12G'], color='red')\n",
    "plt.plot(GPU_Prices['Date'],GPU_Prices['MSI RX 6800 XT GAMING X TRIO 16G'], color='firebrick')\n",
    "plt.plot(GPU_Prices['Date'],GPU_Prices['MSI RX 6900 XT GAMING X TRIO 16G'], color='maroon')\n",
    "plt.plot(GPU_Prices['Date'],GPU_Prices['MSI GEFORCE RTX 3070 SUPRIM X 8G'], color='lawngreen')\n",
    "plt.plot(GPU_Prices['Date'],GPU_Prices['MSI GEFORCE RTX 3080 SUPRIM X 10G'], color='lime')\n",
    "plt.plot(GPU_Prices['Date'],GPU_Prices['MSI GEFORCE RTX 3090 SUPRIM X 24G'], color='green')\n",
    "\n",
    "plt.xlabel('Date (months)')\n",
    "plt.ylabel('GPU Price')\n",
    "plt.legend([\"6700XT\", \"6800XT\", \"6900XT\", \"RTX 3070\", \"RTX 3080\", \"RTX 3090\"])\n",
    "plt.title('GPU Prices Combined')\n",
    "plt.rcParams['font.size'] = 15"
   ]
  },
  {
   "cell_type": "code",
   "execution_count": 36,
   "id": "9cf7dcd0",
   "metadata": {},
   "outputs": [
    {
     "data": {
      "text/plain": [
       "Text(0.5, 1.0, 'Bitcoin Price')"
      ]
     },
     "execution_count": 36,
     "metadata": {},
     "output_type": "execute_result"
    },
    {
     "data": {
      "image/png": "[encoded data removed]",
      "text/plain": [
       "<Figure size 720x360 with 1 Axes>"
      ]
     },
     "metadata": {
      "needs_background": "light"
     },
     "output_type": "display_data"
    }
   ],
   "source": [
    "plt.subplots(figsize=(10,5))\n",
    "\n",
    "plt.plot(Stock_Prices['Date'],Stock_Prices['Bitcoin_Closing'], color='orange')\n",
    "\n",
    "plt.xlabel('Date (months)')\n",
    "plt.ylabel('Price')\n",
    "plt.title('Bitcoin Price')"
   ]
  },
  {
   "cell_type": "code",
   "execution_count": 37,
   "id": "ca6ca81c",
   "metadata": {},
   "outputs": [
    {
     "data": {
      "text/plain": [
       "Text(0.5, 1.0, 'Stock Prices')"
      ]
     },
     "execution_count": 37,
     "metadata": {},
     "output_type": "execute_result"
    },
    {
     "data": {
      "image/png": "[encoded data removed]",
      "text/plain": [
       "<Figure size 720x360 with 1 Axes>"
      ]
     },
     "metadata": {
      "needs_background": "light"
     },
     "output_type": "display_data"
    }
   ],
   "source": [
    "plt.subplots(figsize=(10,5))\n",
    "\n",
    "plt.plot(Stock_Prices['Date'],Stock_Prices['AMD_Closing'], color='red')\n",
    "plt.plot(Stock_Prices['Date'],Stock_Prices['NVIDIA_Closing'], color='green')\n",
    "\n",
    "plt.xlabel('Date (months)')\n",
    "plt.ylabel('Price')\n",
    "plt.title('Stock Prices')"
   ]
  },
  {
   "cell_type": "code",
   "execution_count": 38,
   "id": "14ac7b9f",
   "metadata": {
    "scrolled": true
   },
   "outputs": [],
   "source": [
    "Stock_Prices_monthly = Stock_Prices.groupby(Stock_Prices.Date.dt.to_period('M')).agg('mean').reset_index()\n",
    "Stock_Prices_monthly.columns = ['Month','Bitcoin_Closing' ,'AMD_Closing' ,'NVIDIA_Closing']"
   ]
  },
  {
   "cell_type": "code",
   "execution_count": 39,
   "id": "9a5c7bff",
   "metadata": {},
   "outputs": [
    {
     "data": {
      "text/plain": [
       "Month              datetime64[ns]\n",
       "Bitcoin_Closing           float64\n",
       "AMD_Closing               float64\n",
       "NVIDIA_Closing            float64\n",
       "dtype: object"
      ]
     },
     "execution_count": 39,
     "metadata": {},
     "output_type": "execute_result"
    }
   ],
   "source": [
    "##Importing Month end from panda package\n",
    "from pandas.tseries.offsets import MonthEnd\n",
    "\n",
    "##Converting Mont column to string\n",
    "Stock_Prices_monthly['Month'] = Stock_Prices_monthly['Month'].astype(str)\n",
    "\n",
    "##Getting Month end date to Month column\n",
    "Stock_Prices_monthly['Month'] = pd.to_datetime(Stock_Prices_monthly['Month'])+ MonthEnd(0)\n",
    "Stock_Prices_monthly.dtypes"
   ]
  },
  {
   "cell_type": "code",
   "execution_count": 40,
   "id": "f7619f3b",
   "metadata": {
    "scrolled": true
   },
   "outputs": [
    {
     "data": {
      "text/html": [
       "<div>\n",
       "<style scoped>\n",
       "    .dataframe tbody tr th:only-of-type {\n",
       "        vertical-align: middle;\n",
       "    }\n",
       "\n",
       "    .dataframe tbody tr th {\n",
       "        vertical-align: top;\n",
       "    }\n",
       "\n",
       "    .dataframe thead th {\n",
       "        text-align: right;\n",
       "    }\n",
       "</style>\n",
       "<table border=\"1\" class=\"dataframe\">\n",
       "  <thead>\n",
       "    <tr style=\"text-align: right;\">\n",
       "      <th></th>\n",
       "      <th>Month</th>\n",
       "      <th>Bitcoin_Closing</th>\n",
       "      <th>AMD_Closing</th>\n",
       "      <th>NVIDIA_Closing</th>\n",
       "    </tr>\n",
       "  </thead>\n",
       "  <tbody>\n",
       "    <tr>\n",
       "      <th>0</th>\n",
       "      <td>2021-01-31</td>\n",
       "      <td>34761.649950</td>\n",
       "      <td>91.162143</td>\n",
       "      <td>132.502055</td>\n",
       "    </tr>\n",
       "    <tr>\n",
       "      <th>1</th>\n",
       "      <td>2021-02-28</td>\n",
       "      <td>46306.798968</td>\n",
       "      <td>88.935715</td>\n",
       "      <td>143.077144</td>\n",
       "    </tr>\n",
       "    <tr>\n",
       "      <th>2</th>\n",
       "      <td>2021-03-31</td>\n",
       "      <td>54998.008695</td>\n",
       "      <td>79.274516</td>\n",
       "      <td>128.437259</td>\n",
       "    </tr>\n",
       "    <tr>\n",
       "      <th>3</th>\n",
       "      <td>2021-04-30</td>\n",
       "      <td>57206.720052</td>\n",
       "      <td>81.911334</td>\n",
       "      <td>149.268998</td>\n",
       "    </tr>\n",
       "    <tr>\n",
       "      <th>4</th>\n",
       "      <td>2021-05-31</td>\n",
       "      <td>46443.286668</td>\n",
       "      <td>77.552903</td>\n",
       "      <td>148.584032</td>\n",
       "    </tr>\n",
       "    <tr>\n",
       "      <th>5</th>\n",
       "      <td>2021-06-30</td>\n",
       "      <td>35845.154687</td>\n",
       "      <td>83.320333</td>\n",
       "      <td>182.319083</td>\n",
       "    </tr>\n",
       "    <tr>\n",
       "      <th>6</th>\n",
       "      <td>2021-07-31</td>\n",
       "      <td>34444.973790</td>\n",
       "      <td>92.295161</td>\n",
       "      <td>196.474758</td>\n",
       "    </tr>\n",
       "    <tr>\n",
       "      <th>7</th>\n",
       "      <td>2021-08-31</td>\n",
       "      <td>45709.022681</td>\n",
       "      <td>108.809033</td>\n",
       "      <td>207.477098</td>\n",
       "    </tr>\n",
       "    <tr>\n",
       "      <th>8</th>\n",
       "      <td>2021-09-30</td>\n",
       "      <td>45939.771484</td>\n",
       "      <td>105.838666</td>\n",
       "      <td>220.705000</td>\n",
       "    </tr>\n",
       "    <tr>\n",
       "      <th>9</th>\n",
       "      <td>2021-10-31</td>\n",
       "      <td>57911.970514</td>\n",
       "      <td>112.237419</td>\n",
       "      <td>221.862902</td>\n",
       "    </tr>\n",
       "    <tr>\n",
       "      <th>10</th>\n",
       "      <td>2021-11-30</td>\n",
       "      <td>60621.488802</td>\n",
       "      <td>147.760666</td>\n",
       "      <td>306.697665</td>\n",
       "    </tr>\n",
       "    <tr>\n",
       "      <th>11</th>\n",
       "      <td>2021-12-31</td>\n",
       "      <td>49263.209173</td>\n",
       "      <td>143.090967</td>\n",
       "      <td>298.316129</td>\n",
       "    </tr>\n",
       "    <tr>\n",
       "      <th>12</th>\n",
       "      <td>2022-01-31</td>\n",
       "      <td>41114.422379</td>\n",
       "      <td>127.333548</td>\n",
       "      <td>258.701614</td>\n",
       "    </tr>\n",
       "    <tr>\n",
       "      <th>13</th>\n",
       "      <td>2022-02-28</td>\n",
       "      <td>40763.474051</td>\n",
       "      <td>118.933571</td>\n",
       "      <td>244.187857</td>\n",
       "    </tr>\n",
       "    <tr>\n",
       "      <th>14</th>\n",
       "      <td>2022-03-31</td>\n",
       "      <td>41966.237525</td>\n",
       "      <td>112.367420</td>\n",
       "      <td>248.370968</td>\n",
       "    </tr>\n",
       "    <tr>\n",
       "      <th>15</th>\n",
       "      <td>2022-04-30</td>\n",
       "      <td>41435.319661</td>\n",
       "      <td>95.843666</td>\n",
       "      <td>220.075667</td>\n",
       "    </tr>\n",
       "    <tr>\n",
       "      <th>16</th>\n",
       "      <td>2022-05-31</td>\n",
       "      <td>31706.105217</td>\n",
       "      <td>94.836129</td>\n",
       "      <td>178.945807</td>\n",
       "    </tr>\n",
       "    <tr>\n",
       "      <th>17</th>\n",
       "      <td>2022-06-30</td>\n",
       "      <td>24383.685482</td>\n",
       "      <td>90.967334</td>\n",
       "      <td>170.204667</td>\n",
       "    </tr>\n",
       "    <tr>\n",
       "      <th>18</th>\n",
       "      <td>2022-07-31</td>\n",
       "      <td>21539.253843</td>\n",
       "      <td>82.747096</td>\n",
       "      <td>162.690646</td>\n",
       "    </tr>\n",
       "    <tr>\n",
       "      <th>19</th>\n",
       "      <td>2022-08-31</td>\n",
       "      <td>22366.266318</td>\n",
       "      <td>96.681290</td>\n",
       "      <td>178.111613</td>\n",
       "    </tr>\n",
       "    <tr>\n",
       "      <th>20</th>\n",
       "      <td>2022-09-30</td>\n",
       "      <td>19804.779232</td>\n",
       "      <td>75.842333</td>\n",
       "      <td>132.601999</td>\n",
       "    </tr>\n",
       "    <tr>\n",
       "      <th>21</th>\n",
       "      <td>2022-10-31</td>\n",
       "      <td>19650.525643</td>\n",
       "      <td>60.123225</td>\n",
       "      <td>124.306451</td>\n",
       "    </tr>\n",
       "    <tr>\n",
       "      <th>22</th>\n",
       "      <td>2022-11-30</td>\n",
       "      <td>19441.555131</td>\n",
       "      <td>62.969091</td>\n",
       "      <td>143.097272</td>\n",
       "    </tr>\n",
       "  </tbody>\n",
       "</table>\n",
       "</div>"
      ],
      "text/plain": [
       "        Month  Bitcoin_Closing  AMD_Closing  NVIDIA_Closing\n",
       "0  2021-01-31     34761.649950    91.162143      132.502055\n",
       "1  2021-02-28     46306.798968    88.935715      143.077144\n",
       "2  2021-03-31     54998.008695    79.274516      128.437259\n",
       "3  2021-04-30     57206.720052    81.911334      149.268998\n",
       "4  2021-05-31     46443.286668    77.552903      148.584032\n",
       "5  2021-06-30     35845.154687    83.320333      182.319083\n",
       "6  2021-07-31     34444.973790    92.295161      196.474758\n",
       "7  2021-08-31     45709.022681   108.809033      207.477098\n",
       "8  2021-09-30     45939.771484   105.838666      220.705000\n",
       "9  2021-10-31     57911.970514   112.237419      221.862902\n",
       "10 2021-11-30     60621.488802   147.760666      306.697665\n",
       "11 2021-12-31     49263.209173   143.090967      298.316129\n",
       "12 2022-01-31     41114.422379   127.333548      258.701614\n",
       "13 2022-02-28     40763.474051   118.933571      244.187857\n",
       "14 2022-03-31     41966.237525   112.367420      248.370968\n",
       "15 2022-04-30     41435.319661    95.843666      220.075667\n",
       "16 2022-05-31     31706.105217    94.836129      178.945807\n",
       "17 2022-06-30     24383.685482    90.967334      170.204667\n",
       "18 2022-07-31     21539.253843    82.747096      162.690646\n",
       "19 2022-08-31     22366.266318    96.681290      178.111613\n",
       "20 2022-09-30     19804.779232    75.842333      132.601999\n",
       "21 2022-10-31     19650.525643    60.123225      124.306451\n",
       "22 2022-11-30     19441.555131    62.969091      143.097272"
      ]
     },
     "execution_count": 40,
     "metadata": {},
     "output_type": "execute_result"
    }
   ],
   "source": [
    "Stock_Prices_monthly"
   ]
  },
  {
   "cell_type": "code",
   "execution_count": 41,
   "id": "86d84226",
   "metadata": {},
   "outputs": [
    {
     "data": {
      "text/plain": [
       "Text(0.5, 1.0, 'Stock Prices')"
      ]
     },
     "execution_count": 41,
     "metadata": {},
     "output_type": "execute_result"
    },
    {
     "data": {
      "image/png": "[encoded data removed]",
      "text/plain": [
       "<Figure size 720x360 with 1 Axes>"
      ]
     },
     "metadata": {
      "needs_background": "light"
     },
     "output_type": "display_data"
    }
   ],
   "source": [
    "plt.subplots(figsize=(10,5))\n",
    "\n",
    "plt.plot(Stock_Prices_monthly['Month'],Stock_Prices_monthly['NVIDIA_Closing'], color='green')\n",
    "plt.plot(Stock_Prices_monthly['Month'],Stock_Prices_monthly['AMD_Closing'], color='red')\n",
    "\n",
    "plt.xlabel('Date (months)')\n",
    "plt.ylabel('Price')\n",
    "plt.legend([\"NVIDIA\",\"AMD\"], loc =\"upper right\")\n",
    "plt.title('Stock Prices')"
   ]
  },
  {
   "cell_type": "code",
   "execution_count": 42,
   "id": "d9705e7c",
   "metadata": {},
   "outputs": [
    {
     "data": {
      "text/html": [
       "<div>\n",
       "<style scoped>\n",
       "    .dataframe tbody tr th:only-of-type {\n",
       "        vertical-align: middle;\n",
       "    }\n",
       "\n",
       "    .dataframe tbody tr th {\n",
       "        vertical-align: top;\n",
       "    }\n",
       "\n",
       "    .dataframe thead th {\n",
       "        text-align: right;\n",
       "    }\n",
       "</style>\n",
       "<table border=\"1\" class=\"dataframe\">\n",
       "  <thead>\n",
       "    <tr style=\"text-align: right;\">\n",
       "      <th></th>\n",
       "      <th>Date</th>\n",
       "      <th>Bitcoin_Closing</th>\n",
       "      <th>AMD_Closing</th>\n",
       "      <th>NVIDIA_Closing</th>\n",
       "      <th>MSI GEFORCE RTX 3070 SUPRIM X 8G</th>\n",
       "      <th>MSI GEFORCE RTX 3080 SUPRIM X 10G</th>\n",
       "      <th>MSI GEFORCE RTX 3090 SUPRIM X 24G</th>\n",
       "      <th>MSI RX 6700 XT GAMING X 12G</th>\n",
       "      <th>MSI RX 6800 XT GAMING X TRIO 16G</th>\n",
       "      <th>MSI RX 6900 XT GAMING X TRIO 16G</th>\n",
       "    </tr>\n",
       "  </thead>\n",
       "  <tbody>\n",
       "    <tr>\n",
       "      <th>0</th>\n",
       "      <td>2021-01-01</td>\n",
       "      <td>29374.152344</td>\n",
       "      <td>NaN</td>\n",
       "      <td>NaN</td>\n",
       "      <td>924.11</td>\n",
       "      <td>1357.46</td>\n",
       "      <td>2344.08</td>\n",
       "      <td>NaN</td>\n",
       "      <td>2030.00</td>\n",
       "      <td>NaN</td>\n",
       "    </tr>\n",
       "    <tr>\n",
       "      <th>1</th>\n",
       "      <td>2021-01-02</td>\n",
       "      <td>32127.267578</td>\n",
       "      <td>NaN</td>\n",
       "      <td>NaN</td>\n",
       "      <td>924.11</td>\n",
       "      <td>1357.46</td>\n",
       "      <td>2344.08</td>\n",
       "      <td>NaN</td>\n",
       "      <td>2030.00</td>\n",
       "      <td>NaN</td>\n",
       "    </tr>\n",
       "    <tr>\n",
       "      <th>2</th>\n",
       "      <td>2021-01-03</td>\n",
       "      <td>32782.023438</td>\n",
       "      <td>NaN</td>\n",
       "      <td>NaN</td>\n",
       "      <td>924.11</td>\n",
       "      <td>1357.46</td>\n",
       "      <td>2344.08</td>\n",
       "      <td>NaN</td>\n",
       "      <td>2030.00</td>\n",
       "      <td>NaN</td>\n",
       "    </tr>\n",
       "    <tr>\n",
       "      <th>3</th>\n",
       "      <td>2021-01-04</td>\n",
       "      <td>31971.914062</td>\n",
       "      <td>92.300003</td>\n",
       "      <td>131.134995</td>\n",
       "      <td>924.11</td>\n",
       "      <td>1357.46</td>\n",
       "      <td>2344.08</td>\n",
       "      <td>NaN</td>\n",
       "      <td>2030.00</td>\n",
       "      <td>NaN</td>\n",
       "    </tr>\n",
       "    <tr>\n",
       "      <th>4</th>\n",
       "      <td>2021-01-05</td>\n",
       "      <td>33992.429688</td>\n",
       "      <td>92.769997</td>\n",
       "      <td>134.047501</td>\n",
       "      <td>924.11</td>\n",
       "      <td>1357.46</td>\n",
       "      <td>2344.08</td>\n",
       "      <td>NaN</td>\n",
       "      <td>2030.00</td>\n",
       "      <td>NaN</td>\n",
       "    </tr>\n",
       "    <tr>\n",
       "      <th>...</th>\n",
       "      <td>...</td>\n",
       "      <td>...</td>\n",
       "      <td>...</td>\n",
       "      <td>...</td>\n",
       "      <td>...</td>\n",
       "      <td>...</td>\n",
       "      <td>...</td>\n",
       "      <td>...</td>\n",
       "      <td>...</td>\n",
       "      <td>...</td>\n",
       "    </tr>\n",
       "    <tr>\n",
       "      <th>675</th>\n",
       "      <td>2022-11-07</td>\n",
       "      <td>20602.816406</td>\n",
       "      <td>63.080002</td>\n",
       "      <td>143.009995</td>\n",
       "      <td>714.19</td>\n",
       "      <td>984.14</td>\n",
       "      <td>1824.67</td>\n",
       "      <td>587.58</td>\n",
       "      <td>857.68</td>\n",
       "      <td>1085.57</td>\n",
       "    </tr>\n",
       "    <tr>\n",
       "      <th>676</th>\n",
       "      <td>2022-11-08</td>\n",
       "      <td>18541.271484</td>\n",
       "      <td>63.849998</td>\n",
       "      <td>146.020004</td>\n",
       "      <td>714.19</td>\n",
       "      <td>984.14</td>\n",
       "      <td>1824.67</td>\n",
       "      <td>587.58</td>\n",
       "      <td>857.68</td>\n",
       "      <td>1085.57</td>\n",
       "    </tr>\n",
       "    <tr>\n",
       "      <th>677</th>\n",
       "      <td>2022-11-09</td>\n",
       "      <td>15880.780273</td>\n",
       "      <td>59.919998</td>\n",
       "      <td>137.759995</td>\n",
       "      <td>705.95</td>\n",
       "      <td>965.86</td>\n",
       "      <td>1886.04</td>\n",
       "      <td>581.08</td>\n",
       "      <td>817.20</td>\n",
       "      <td>1052.69</td>\n",
       "    </tr>\n",
       "    <tr>\n",
       "      <th>678</th>\n",
       "      <td>2022-11-10</td>\n",
       "      <td>17586.771484</td>\n",
       "      <td>68.470001</td>\n",
       "      <td>157.500000</td>\n",
       "      <td>713.09</td>\n",
       "      <td>999.79</td>\n",
       "      <td>1807.62</td>\n",
       "      <td>587.72</td>\n",
       "      <td>846.30</td>\n",
       "      <td>1078.59</td>\n",
       "    </tr>\n",
       "    <tr>\n",
       "      <th>679</th>\n",
       "      <td>2022-11-11</td>\n",
       "      <td>17034.292969</td>\n",
       "      <td>72.370003</td>\n",
       "      <td>163.270004</td>\n",
       "      <td>719.35</td>\n",
       "      <td>1003.62</td>\n",
       "      <td>1822.68</td>\n",
       "      <td>585.60</td>\n",
       "      <td>834.76</td>\n",
       "      <td>1071.07</td>\n",
       "    </tr>\n",
       "  </tbody>\n",
       "</table>\n",
       "<p>680 rows × 10 columns</p>\n",
       "</div>"
      ],
      "text/plain": [
       "          Date  Bitcoin_Closing  AMD_Closing  NVIDIA_Closing  \\\n",
       "0   2021-01-01     29374.152344          NaN             NaN   \n",
       "1   2021-01-02     32127.267578          NaN             NaN   \n",
       "2   2021-01-03     32782.023438          NaN             NaN   \n",
       "3   2021-01-04     31971.914062    92.300003      131.134995   \n",
       "4   2021-01-05     33992.429688    92.769997      134.047501   \n",
       "..         ...              ...          ...             ...   \n",
       "675 2022-11-07     20602.816406    63.080002      143.009995   \n",
       "676 2022-11-08     18541.271484    63.849998      146.020004   \n",
       "677 2022-11-09     15880.780273    59.919998      137.759995   \n",
       "678 2022-11-10     17586.771484    68.470001      157.500000   \n",
       "679 2022-11-11     17034.292969    72.370003      163.270004   \n",
       "\n",
       "     MSI GEFORCE RTX 3070 SUPRIM X 8G  MSI GEFORCE RTX 3080 SUPRIM X 10G  \\\n",
       "0                              924.11                            1357.46   \n",
       "1                              924.11                            1357.46   \n",
       "2                              924.11                            1357.46   \n",
       "3                              924.11                            1357.46   \n",
       "4                              924.11                            1357.46   \n",
       "..                                ...                                ...   \n",
       "675                            714.19                             984.14   \n",
       "676                            714.19                             984.14   \n",
       "677                            705.95                             965.86   \n",
       "678                            713.09                             999.79   \n",
       "679                            719.35                            1003.62   \n",
       "\n",
       "     MSI GEFORCE RTX 3090 SUPRIM X 24G  MSI RX 6700 XT GAMING X 12G  \\\n",
       "0                              2344.08                          NaN   \n",
       "1                              2344.08                          NaN   \n",
       "2                              2344.08                          NaN   \n",
       "3                              2344.08                          NaN   \n",
       "4                              2344.08                          NaN   \n",
       "..                                 ...                          ...   \n",
       "675                            1824.67                       587.58   \n",
       "676                            1824.67                       587.58   \n",
       "677                            1886.04                       581.08   \n",
       "678                            1807.62                       587.72   \n",
       "679                            1822.68                       585.60   \n",
       "\n",
       "     MSI RX 6800 XT GAMING X TRIO 16G  MSI RX 6900 XT GAMING X TRIO 16G  \n",
       "0                             2030.00                               NaN  \n",
       "1                             2030.00                               NaN  \n",
       "2                             2030.00                               NaN  \n",
       "3                             2030.00                               NaN  \n",
       "4                             2030.00                               NaN  \n",
       "..                                ...                               ...  \n",
       "675                            857.68                           1085.57  \n",
       "676                            857.68                           1085.57  \n",
       "677                            817.20                           1052.69  \n",
       "678                            846.30                           1078.59  \n",
       "679                            834.76                           1071.07  \n",
       "\n",
       "[680 rows x 10 columns]"
      ]
     },
     "execution_count": 42,
     "metadata": {},
     "output_type": "execute_result"
    }
   ],
   "source": [
    "df7 = pd.merge(Stock_Prices, NVIDIA_GPU_Prices, on='Date', how='left')\n",
    "Data_final = pd.merge(df7, AMD_GPU_Prices, on='Date', how='left')\n",
    "Data_final"
   ]
  },
  {
   "cell_type": "code",
   "execution_count": 43,
   "id": "bd7dfbbf",
   "metadata": {},
   "outputs": [
    {
     "data": {
      "text/html": [
       "<div>\n",
       "<style scoped>\n",
       "    .dataframe tbody tr th:only-of-type {\n",
       "        vertical-align: middle;\n",
       "    }\n",
       "\n",
       "    .dataframe tbody tr th {\n",
       "        vertical-align: top;\n",
       "    }\n",
       "\n",
       "    .dataframe thead th {\n",
       "        text-align: right;\n",
       "    }\n",
       "</style>\n",
       "<table border=\"1\" class=\"dataframe\">\n",
       "  <thead>\n",
       "    <tr style=\"text-align: right;\">\n",
       "      <th></th>\n",
       "      <th>Bitcoin_Closing</th>\n",
       "      <th>AMD_Closing</th>\n",
       "      <th>NVIDIA_Closing</th>\n",
       "      <th>MSI GEFORCE RTX 3070 SUPRIM X 8G</th>\n",
       "      <th>MSI GEFORCE RTX 3080 SUPRIM X 10G</th>\n",
       "      <th>MSI GEFORCE RTX 3090 SUPRIM X 24G</th>\n",
       "      <th>MSI RX 6700 XT GAMING X 12G</th>\n",
       "      <th>MSI RX 6800 XT GAMING X TRIO 16G</th>\n",
       "      <th>MSI RX 6900 XT GAMING X TRIO 16G</th>\n",
       "    </tr>\n",
       "  </thead>\n",
       "  <tbody>\n",
       "    <tr>\n",
       "      <th>Bitcoin_Closing</th>\n",
       "      <td>1.000000</td>\n",
       "      <td>0.511945</td>\n",
       "      <td>0.443479</td>\n",
       "      <td>0.558857</td>\n",
       "      <td>0.398048</td>\n",
       "      <td>0.674600</td>\n",
       "      <td>0.821883</td>\n",
       "      <td>0.752984</td>\n",
       "      <td>0.725260</td>\n",
       "    </tr>\n",
       "    <tr>\n",
       "      <th>AMD_Closing</th>\n",
       "      <td>0.511945</td>\n",
       "      <td>1.000000</td>\n",
       "      <td>0.934711</td>\n",
       "      <td>0.807145</td>\n",
       "      <td>0.767602</td>\n",
       "      <td>0.746297</td>\n",
       "      <td>0.583890</td>\n",
       "      <td>0.384010</td>\n",
       "      <td>0.391477</td>\n",
       "    </tr>\n",
       "    <tr>\n",
       "      <th>NVIDIA_Closing</th>\n",
       "      <td>0.443479</td>\n",
       "      <td>0.934711</td>\n",
       "      <td>1.000000</td>\n",
       "      <td>0.819719</td>\n",
       "      <td>0.803675</td>\n",
       "      <td>0.759598</td>\n",
       "      <td>0.617760</td>\n",
       "      <td>0.351128</td>\n",
       "      <td>0.394473</td>\n",
       "    </tr>\n",
       "    <tr>\n",
       "      <th>MSI GEFORCE RTX 3070 SUPRIM X 8G</th>\n",
       "      <td>0.558857</td>\n",
       "      <td>0.807145</td>\n",
       "      <td>0.819719</td>\n",
       "      <td>1.000000</td>\n",
       "      <td>0.947400</td>\n",
       "      <td>0.961141</td>\n",
       "      <td>0.827014</td>\n",
       "      <td>0.644779</td>\n",
       "      <td>0.664562</td>\n",
       "    </tr>\n",
       "    <tr>\n",
       "      <th>MSI GEFORCE RTX 3080 SUPRIM X 10G</th>\n",
       "      <td>0.398048</td>\n",
       "      <td>0.767602</td>\n",
       "      <td>0.803675</td>\n",
       "      <td>0.947400</td>\n",
       "      <td>1.000000</td>\n",
       "      <td>0.900134</td>\n",
       "      <td>0.744588</td>\n",
       "      <td>0.558614</td>\n",
       "      <td>0.600337</td>\n",
       "    </tr>\n",
       "    <tr>\n",
       "      <th>MSI GEFORCE RTX 3090 SUPRIM X 24G</th>\n",
       "      <td>0.674600</td>\n",
       "      <td>0.746297</td>\n",
       "      <td>0.759598</td>\n",
       "      <td>0.961141</td>\n",
       "      <td>0.900134</td>\n",
       "      <td>1.000000</td>\n",
       "      <td>0.917726</td>\n",
       "      <td>0.772354</td>\n",
       "      <td>0.786808</td>\n",
       "    </tr>\n",
       "    <tr>\n",
       "      <th>MSI RX 6700 XT GAMING X 12G</th>\n",
       "      <td>0.821883</td>\n",
       "      <td>0.583890</td>\n",
       "      <td>0.617760</td>\n",
       "      <td>0.827014</td>\n",
       "      <td>0.744588</td>\n",
       "      <td>0.917726</td>\n",
       "      <td>1.000000</td>\n",
       "      <td>0.966473</td>\n",
       "      <td>0.941536</td>\n",
       "    </tr>\n",
       "    <tr>\n",
       "      <th>MSI RX 6800 XT GAMING X TRIO 16G</th>\n",
       "      <td>0.752984</td>\n",
       "      <td>0.384010</td>\n",
       "      <td>0.351128</td>\n",
       "      <td>0.644779</td>\n",
       "      <td>0.558614</td>\n",
       "      <td>0.772354</td>\n",
       "      <td>0.966473</td>\n",
       "      <td>1.000000</td>\n",
       "      <td>0.973377</td>\n",
       "    </tr>\n",
       "    <tr>\n",
       "      <th>MSI RX 6900 XT GAMING X TRIO 16G</th>\n",
       "      <td>0.725260</td>\n",
       "      <td>0.391477</td>\n",
       "      <td>0.394473</td>\n",
       "      <td>0.664562</td>\n",
       "      <td>0.600337</td>\n",
       "      <td>0.786808</td>\n",
       "      <td>0.941536</td>\n",
       "      <td>0.973377</td>\n",
       "      <td>1.000000</td>\n",
       "    </tr>\n",
       "  </tbody>\n",
       "</table>\n",
       "</div>"
      ],
      "text/plain": [
       "                                   Bitcoin_Closing  AMD_Closing  \\\n",
       "Bitcoin_Closing                           1.000000     0.511945   \n",
       "AMD_Closing                               0.511945     1.000000   \n",
       "NVIDIA_Closing                            0.443479     0.934711   \n",
       "MSI GEFORCE RTX 3070 SUPRIM X 8G          0.558857     0.807145   \n",
       "MSI GEFORCE RTX 3080 SUPRIM X 10G         0.398048     0.767602   \n",
       "MSI GEFORCE RTX 3090 SUPRIM X 24G         0.674600     0.746297   \n",
       "MSI RX 6700 XT GAMING X 12G               0.821883     0.583890   \n",
       "MSI RX 6800 XT GAMING X TRIO 16G          0.752984     0.384010   \n",
       "MSI RX 6900 XT GAMING X TRIO 16G          0.725260     0.391477   \n",
       "\n",
       "                                   NVIDIA_Closing  \\\n",
       "Bitcoin_Closing                          0.443479   \n",
       "AMD_Closing                              0.934711   \n",
       "NVIDIA_Closing                           1.000000   \n",
       "MSI GEFORCE RTX 3070 SUPRIM X 8G         0.819719   \n",
       "MSI GEFORCE RTX 3080 SUPRIM X 10G        0.803675   \n",
       "MSI GEFORCE RTX 3090 SUPRIM X 24G        0.759598   \n",
       "MSI RX 6700 XT GAMING X 12G              0.617760   \n",
       "MSI RX 6800 XT GAMING X TRIO 16G         0.351128   \n",
       "MSI RX 6900 XT GAMING X TRIO 16G         0.394473   \n",
       "\n",
       "                                   MSI GEFORCE RTX 3070 SUPRIM X 8G  \\\n",
       "Bitcoin_Closing                                            0.558857   \n",
       "AMD_Closing                                                0.807145   \n",
       "NVIDIA_Closing                                             0.819719   \n",
       "MSI GEFORCE RTX 3070 SUPRIM X 8G                           1.000000   \n",
       "MSI GEFORCE RTX 3080 SUPRIM X 10G                          0.947400   \n",
       "MSI GEFORCE RTX 3090 SUPRIM X 24G                          0.961141   \n",
       "MSI RX 6700 XT GAMING X 12G                                0.827014   \n",
       "MSI RX 6800 XT GAMING X TRIO 16G                           0.644779   \n",
       "MSI RX 6900 XT GAMING X TRIO 16G                           0.664562   \n",
       "\n",
       "                                   MSI GEFORCE RTX 3080 SUPRIM X 10G  \\\n",
       "Bitcoin_Closing                                             0.398048   \n",
       "AMD_Closing                                                 0.767602   \n",
       "NVIDIA_Closing                                              0.803675   \n",
       "MSI GEFORCE RTX 3070 SUPRIM X 8G                            0.947400   \n",
       "MSI GEFORCE RTX 3080 SUPRIM X 10G                           1.000000   \n",
       "MSI GEFORCE RTX 3090 SUPRIM X 24G                           0.900134   \n",
       "MSI RX 6700 XT GAMING X 12G                                 0.744588   \n",
       "MSI RX 6800 XT GAMING X TRIO 16G                            0.558614   \n",
       "MSI RX 6900 XT GAMING X TRIO 16G                            0.600337   \n",
       "\n",
       "                                   MSI GEFORCE RTX 3090 SUPRIM X 24G  \\\n",
       "Bitcoin_Closing                                             0.674600   \n",
       "AMD_Closing                                                 0.746297   \n",
       "NVIDIA_Closing                                              0.759598   \n",
       "MSI GEFORCE RTX 3070 SUPRIM X 8G                            0.961141   \n",
       "MSI GEFORCE RTX 3080 SUPRIM X 10G                           0.900134   \n",
       "MSI GEFORCE RTX 3090 SUPRIM X 24G                           1.000000   \n",
       "MSI RX 6700 XT GAMING X 12G                                 0.917726   \n",
       "MSI RX 6800 XT GAMING X TRIO 16G                            0.772354   \n",
       "MSI RX 6900 XT GAMING X TRIO 16G                            0.786808   \n",
       "\n",
       "                                   MSI RX 6700 XT GAMING X 12G  \\\n",
       "Bitcoin_Closing                                       0.821883   \n",
       "AMD_Closing                                           0.583890   \n",
       "NVIDIA_Closing                                        0.617760   \n",
       "MSI GEFORCE RTX 3070 SUPRIM X 8G                      0.827014   \n",
       "MSI GEFORCE RTX 3080 SUPRIM X 10G                     0.744588   \n",
       "MSI GEFORCE RTX 3090 SUPRIM X 24G                     0.917726   \n",
       "MSI RX 6700 XT GAMING X 12G                           1.000000   \n",
       "MSI RX 6800 XT GAMING X TRIO 16G                      0.966473   \n",
       "MSI RX 6900 XT GAMING X TRIO 16G                      0.941536   \n",
       "\n",
       "                                   MSI RX 6800 XT GAMING X TRIO 16G  \\\n",
       "Bitcoin_Closing                                            0.752984   \n",
       "AMD_Closing                                                0.384010   \n",
       "NVIDIA_Closing                                             0.351128   \n",
       "MSI GEFORCE RTX 3070 SUPRIM X 8G                           0.644779   \n",
       "MSI GEFORCE RTX 3080 SUPRIM X 10G                          0.558614   \n",
       "MSI GEFORCE RTX 3090 SUPRIM X 24G                          0.772354   \n",
       "MSI RX 6700 XT GAMING X 12G                                0.966473   \n",
       "MSI RX 6800 XT GAMING X TRIO 16G                           1.000000   \n",
       "MSI RX 6900 XT GAMING X TRIO 16G                           0.973377   \n",
       "\n",
       "                                   MSI RX 6900 XT GAMING X TRIO 16G  \n",
       "Bitcoin_Closing                                            0.725260  \n",
       "AMD_Closing                                                0.391477  \n",
       "NVIDIA_Closing                                             0.394473  \n",
       "MSI GEFORCE RTX 3070 SUPRIM X 8G                           0.664562  \n",
       "MSI GEFORCE RTX 3080 SUPRIM X 10G                          0.600337  \n",
       "MSI GEFORCE RTX 3090 SUPRIM X 24G                          0.786808  \n",
       "MSI RX 6700 XT GAMING X 12G                                0.941536  \n",
       "MSI RX 6800 XT GAMING X TRIO 16G                           0.973377  \n",
       "MSI RX 6900 XT GAMING X TRIO 16G                           1.000000  "
      ]
     },
     "execution_count": 43,
     "metadata": {},
     "output_type": "execute_result"
    }
   ],
   "source": [
    "Data_final.corr()"
   ]
  },
  {
   "cell_type": "code",
   "execution_count": 44,
   "id": "01ef94b2",
   "metadata": {},
   "outputs": [
    {
     "data": {
      "text/plain": [
       "Date                                  0\n",
       "Bitcoin_Closing                       0\n",
       "AMD_Closing                           3\n",
       "NVIDIA_Closing                        3\n",
       "MSI GEFORCE RTX 3070 SUPRIM X 8G      0\n",
       "MSI GEFORCE RTX 3080 SUPRIM X 10G     0\n",
       "MSI GEFORCE RTX 3090 SUPRIM X 24G     0\n",
       "MSI RX 6700 XT GAMING X 12G          91\n",
       "MSI RX 6800 XT GAMING X TRIO 16G      0\n",
       "MSI RX 6900 XT GAMING X TRIO 16G     18\n",
       "dtype: int64"
      ]
     },
     "execution_count": 44,
     "metadata": {},
     "output_type": "execute_result"
    }
   ],
   "source": [
    "np.sum(Data_final.isnull())"
   ]
  },
  {
   "cell_type": "code",
   "execution_count": 45,
   "id": "67812609",
   "metadata": {},
   "outputs": [
    {
     "data": {
      "text/html": [
       "<div>\n",
       "<style scoped>\n",
       "    .dataframe tbody tr th:only-of-type {\n",
       "        vertical-align: middle;\n",
       "    }\n",
       "\n",
       "    .dataframe tbody tr th {\n",
       "        vertical-align: top;\n",
       "    }\n",
       "\n",
       "    .dataframe thead th {\n",
       "        text-align: right;\n",
       "    }\n",
       "</style>\n",
       "<table border=\"1\" class=\"dataframe\">\n",
       "  <thead>\n",
       "    <tr style=\"text-align: right;\">\n",
       "      <th></th>\n",
       "      <th>Date</th>\n",
       "      <th>Bitcoin_Closing</th>\n",
       "      <th>AMD_Closing</th>\n",
       "      <th>NVIDIA_Closing</th>\n",
       "      <th>MSI GEFORCE RTX 3070 SUPRIM X 8G</th>\n",
       "      <th>MSI GEFORCE RTX 3080 SUPRIM X 10G</th>\n",
       "      <th>MSI GEFORCE RTX 3090 SUPRIM X 24G</th>\n",
       "      <th>MSI RX 6700 XT GAMING X 12G</th>\n",
       "      <th>MSI RX 6800 XT GAMING X TRIO 16G</th>\n",
       "      <th>MSI RX 6900 XT GAMING X TRIO 16G</th>\n",
       "    </tr>\n",
       "  </thead>\n",
       "  <tbody>\n",
       "    <tr>\n",
       "      <th>0</th>\n",
       "      <td>2021-01-01</td>\n",
       "      <td>29374.152344</td>\n",
       "      <td>92.300003</td>\n",
       "      <td>131.134995</td>\n",
       "      <td>924.11</td>\n",
       "      <td>1357.46</td>\n",
       "      <td>2344.08</td>\n",
       "      <td>1195.45</td>\n",
       "      <td>2030.00</td>\n",
       "      <td>2495.00</td>\n",
       "    </tr>\n",
       "    <tr>\n",
       "      <th>1</th>\n",
       "      <td>2021-01-02</td>\n",
       "      <td>32127.267578</td>\n",
       "      <td>92.300003</td>\n",
       "      <td>131.134995</td>\n",
       "      <td>924.11</td>\n",
       "      <td>1357.46</td>\n",
       "      <td>2344.08</td>\n",
       "      <td>1195.45</td>\n",
       "      <td>2030.00</td>\n",
       "      <td>2495.00</td>\n",
       "    </tr>\n",
       "    <tr>\n",
       "      <th>2</th>\n",
       "      <td>2021-01-03</td>\n",
       "      <td>32782.023438</td>\n",
       "      <td>92.300003</td>\n",
       "      <td>131.134995</td>\n",
       "      <td>924.11</td>\n",
       "      <td>1357.46</td>\n",
       "      <td>2344.08</td>\n",
       "      <td>1195.45</td>\n",
       "      <td>2030.00</td>\n",
       "      <td>2495.00</td>\n",
       "    </tr>\n",
       "    <tr>\n",
       "      <th>3</th>\n",
       "      <td>2021-01-04</td>\n",
       "      <td>31971.914062</td>\n",
       "      <td>92.300003</td>\n",
       "      <td>131.134995</td>\n",
       "      <td>924.11</td>\n",
       "      <td>1357.46</td>\n",
       "      <td>2344.08</td>\n",
       "      <td>1195.45</td>\n",
       "      <td>2030.00</td>\n",
       "      <td>2495.00</td>\n",
       "    </tr>\n",
       "    <tr>\n",
       "      <th>4</th>\n",
       "      <td>2021-01-05</td>\n",
       "      <td>33992.429688</td>\n",
       "      <td>92.769997</td>\n",
       "      <td>134.047501</td>\n",
       "      <td>924.11</td>\n",
       "      <td>1357.46</td>\n",
       "      <td>2344.08</td>\n",
       "      <td>1195.45</td>\n",
       "      <td>2030.00</td>\n",
       "      <td>2495.00</td>\n",
       "    </tr>\n",
       "    <tr>\n",
       "      <th>...</th>\n",
       "      <td>...</td>\n",
       "      <td>...</td>\n",
       "      <td>...</td>\n",
       "      <td>...</td>\n",
       "      <td>...</td>\n",
       "      <td>...</td>\n",
       "      <td>...</td>\n",
       "      <td>...</td>\n",
       "      <td>...</td>\n",
       "      <td>...</td>\n",
       "    </tr>\n",
       "    <tr>\n",
       "      <th>675</th>\n",
       "      <td>2022-11-07</td>\n",
       "      <td>20602.816406</td>\n",
       "      <td>63.080002</td>\n",
       "      <td>143.009995</td>\n",
       "      <td>714.19</td>\n",
       "      <td>984.14</td>\n",
       "      <td>1824.67</td>\n",
       "      <td>587.58</td>\n",
       "      <td>857.68</td>\n",
       "      <td>1085.57</td>\n",
       "    </tr>\n",
       "    <tr>\n",
       "      <th>676</th>\n",
       "      <td>2022-11-08</td>\n",
       "      <td>18541.271484</td>\n",
       "      <td>63.849998</td>\n",
       "      <td>146.020004</td>\n",
       "      <td>714.19</td>\n",
       "      <td>984.14</td>\n",
       "      <td>1824.67</td>\n",
       "      <td>587.58</td>\n",
       "      <td>857.68</td>\n",
       "      <td>1085.57</td>\n",
       "    </tr>\n",
       "    <tr>\n",
       "      <th>677</th>\n",
       "      <td>2022-11-09</td>\n",
       "      <td>15880.780273</td>\n",
       "      <td>59.919998</td>\n",
       "      <td>137.759995</td>\n",
       "      <td>705.95</td>\n",
       "      <td>965.86</td>\n",
       "      <td>1886.04</td>\n",
       "      <td>581.08</td>\n",
       "      <td>817.20</td>\n",
       "      <td>1052.69</td>\n",
       "    </tr>\n",
       "    <tr>\n",
       "      <th>678</th>\n",
       "      <td>2022-11-10</td>\n",
       "      <td>17586.771484</td>\n",
       "      <td>68.470001</td>\n",
       "      <td>157.500000</td>\n",
       "      <td>713.09</td>\n",
       "      <td>999.79</td>\n",
       "      <td>1807.62</td>\n",
       "      <td>587.72</td>\n",
       "      <td>846.30</td>\n",
       "      <td>1078.59</td>\n",
       "    </tr>\n",
       "    <tr>\n",
       "      <th>679</th>\n",
       "      <td>2022-11-11</td>\n",
       "      <td>17034.292969</td>\n",
       "      <td>72.370003</td>\n",
       "      <td>163.270004</td>\n",
       "      <td>719.35</td>\n",
       "      <td>1003.62</td>\n",
       "      <td>1822.68</td>\n",
       "      <td>585.60</td>\n",
       "      <td>834.76</td>\n",
       "      <td>1071.07</td>\n",
       "    </tr>\n",
       "  </tbody>\n",
       "</table>\n",
       "<p>680 rows × 10 columns</p>\n",
       "</div>"
      ],
      "text/plain": [
       "          Date  Bitcoin_Closing  AMD_Closing  NVIDIA_Closing  \\\n",
       "0   2021-01-01     29374.152344    92.300003      131.134995   \n",
       "1   2021-01-02     32127.267578    92.300003      131.134995   \n",
       "2   2021-01-03     32782.023438    92.300003      131.134995   \n",
       "3   2021-01-04     31971.914062    92.300003      131.134995   \n",
       "4   2021-01-05     33992.429688    92.769997      134.047501   \n",
       "..         ...              ...          ...             ...   \n",
       "675 2022-11-07     20602.816406    63.080002      143.009995   \n",
       "676 2022-11-08     18541.271484    63.849998      146.020004   \n",
       "677 2022-11-09     15880.780273    59.919998      137.759995   \n",
       "678 2022-11-10     17586.771484    68.470001      157.500000   \n",
       "679 2022-11-11     17034.292969    72.370003      163.270004   \n",
       "\n",
       "     MSI GEFORCE RTX 3070 SUPRIM X 8G  MSI GEFORCE RTX 3080 SUPRIM X 10G  \\\n",
       "0                              924.11                            1357.46   \n",
       "1                              924.11                            1357.46   \n",
       "2                              924.11                            1357.46   \n",
       "3                              924.11                            1357.46   \n",
       "4                              924.11                            1357.46   \n",
       "..                                ...                                ...   \n",
       "675                            714.19                             984.14   \n",
       "676                            714.19                             984.14   \n",
       "677                            705.95                             965.86   \n",
       "678                            713.09                             999.79   \n",
       "679                            719.35                            1003.62   \n",
       "\n",
       "     MSI GEFORCE RTX 3090 SUPRIM X 24G  MSI RX 6700 XT GAMING X 12G  \\\n",
       "0                              2344.08                      1195.45   \n",
       "1                              2344.08                      1195.45   \n",
       "2                              2344.08                      1195.45   \n",
       "3                              2344.08                      1195.45   \n",
       "4                              2344.08                      1195.45   \n",
       "..                                 ...                          ...   \n",
       "675                            1824.67                       587.58   \n",
       "676                            1824.67                       587.58   \n",
       "677                            1886.04                       581.08   \n",
       "678                            1807.62                       587.72   \n",
       "679                            1822.68                       585.60   \n",
       "\n",
       "     MSI RX 6800 XT GAMING X TRIO 16G  MSI RX 6900 XT GAMING X TRIO 16G  \n",
       "0                             2030.00                           2495.00  \n",
       "1                             2030.00                           2495.00  \n",
       "2                             2030.00                           2495.00  \n",
       "3                             2030.00                           2495.00  \n",
       "4                             2030.00                           2495.00  \n",
       "..                                ...                               ...  \n",
       "675                            857.68                           1085.57  \n",
       "676                            857.68                           1085.57  \n",
       "677                            817.20                           1052.69  \n",
       "678                            846.30                           1078.59  \n",
       "679                            834.76                           1071.07  \n",
       "\n",
       "[680 rows x 10 columns]"
      ]
     },
     "execution_count": 45,
     "metadata": {},
     "output_type": "execute_result"
    }
   ],
   "source": [
    "Data_final = Data_final.fillna(method='bfill')\n",
    "Data_final"
   ]
  },
  {
   "cell_type": "code",
   "execution_count": 46,
   "id": "698d613a",
   "metadata": {},
   "outputs": [],
   "source": [
    "#Linear Regression\n",
    "y = Data_final['Bitcoin_Closing']\n",
    "x = Data_final.drop(['Date','Bitcoin_Closing'], axis = 1)"
   ]
  },
  {
   "cell_type": "code",
   "execution_count": 47,
   "id": "a9158b0b",
   "metadata": {},
   "outputs": [],
   "source": [
    "x_target, x_test, y_target, y_test = train_test_split(x, y, train_size = 0.65, random_state = 0)"
   ]
  },
  {
   "cell_type": "code",
   "execution_count": 48,
   "id": "f128ea97",
   "metadata": {},
   "outputs": [
    {
     "data": {
      "text/plain": [
       "LinearRegression()"
      ]
     },
     "execution_count": 48,
     "metadata": {},
     "output_type": "execute_result"
    }
   ],
   "source": [
    "model = LinearRegression()\n",
    "model.fit(x_target, y_target)"
   ]
  },
  {
   "cell_type": "code",
   "execution_count": 49,
   "id": "5756ea96",
   "metadata": {},
   "outputs": [
    {
     "name": "stdout",
     "output_type": "stream",
     "text": [
      "-9759.775908010211 [116.1388911   80.67881735  -2.92519136 -37.79769341  16.974401\n",
      "  25.08697232   7.57284275   0.64511642] 0.7923434233638512\n"
     ]
    }
   ],
   "source": [
    "#display regression coefficients and Model accuracy score\n",
    "print(model.intercept_, model.coef_, model.score(x_test, y_test))"
   ]
  },
  {
   "cell_type": "code",
   "execution_count": 50,
   "id": "a520ce30",
   "metadata": {},
   "outputs": [],
   "source": [
    "y_pred = model.predict(x_test)"
   ]
  },
  {
   "cell_type": "code",
   "execution_count": 51,
   "id": "a205516b",
   "metadata": {},
   "outputs": [],
   "source": [
    "Bitcoin_Act2Pred = pd.DataFrame({'Actual': y_test, 'Predicted':y_pred})"
   ]
  },
  {
   "cell_type": "code",
   "execution_count": 52,
   "id": "9a343193",
   "metadata": {},
   "outputs": [
    {
     "data": {
      "text/html": [
       "<div>\n",
       "<style scoped>\n",
       "    .dataframe tbody tr th:only-of-type {\n",
       "        vertical-align: middle;\n",
       "    }\n",
       "\n",
       "    .dataframe tbody tr th {\n",
       "        vertical-align: top;\n",
       "    }\n",
       "\n",
       "    .dataframe thead th {\n",
       "        text-align: right;\n",
       "    }\n",
       "</style>\n",
       "<table border=\"1\" class=\"dataframe\">\n",
       "  <thead>\n",
       "    <tr style=\"text-align: right;\">\n",
       "      <th></th>\n",
       "      <th>Actual</th>\n",
       "      <th>Predicted</th>\n",
       "    </tr>\n",
       "  </thead>\n",
       "  <tbody>\n",
       "    <tr>\n",
       "      <th>113</th>\n",
       "      <td>50050.87</td>\n",
       "      <td>49571.77</td>\n",
       "    </tr>\n",
       "    <tr>\n",
       "      <th>591</th>\n",
       "      <td>24136.97</td>\n",
       "      <td>27273.98</td>\n",
       "    </tr>\n",
       "    <tr>\n",
       "      <th>306</th>\n",
       "      <td>62970.05</td>\n",
       "      <td>55942.57</td>\n",
       "    </tr>\n",
       "    <tr>\n",
       "      <th>157</th>\n",
       "      <td>33560.71</td>\n",
       "      <td>35198.45</td>\n",
       "    </tr>\n",
       "    <tr>\n",
       "      <th>313</th>\n",
       "      <td>64995.23</td>\n",
       "      <td>59638.23</td>\n",
       "    </tr>\n",
       "    <tr>\n",
       "      <th>422</th>\n",
       "      <td>37709.79</td>\n",
       "      <td>45890.18</td>\n",
       "    </tr>\n",
       "    <tr>\n",
       "      <th>75</th>\n",
       "      <td>58870.89</td>\n",
       "      <td>48033.17</td>\n",
       "    </tr>\n",
       "    <tr>\n",
       "      <th>484</th>\n",
       "      <td>37714.88</td>\n",
       "      <td>32254.00</td>\n",
       "    </tr>\n",
       "    <tr>\n",
       "      <th>625</th>\n",
       "      <td>19419.51</td>\n",
       "      <td>18877.93</td>\n",
       "    </tr>\n",
       "    <tr>\n",
       "      <th>556</th>\n",
       "      <td>19970.56</td>\n",
       "      <td>20978.46</td>\n",
       "    </tr>\n",
       "  </tbody>\n",
       "</table>\n",
       "</div>"
      ],
      "text/plain": [
       "       Actual  Predicted\n",
       "113  50050.87   49571.77\n",
       "591  24136.97   27273.98\n",
       "306  62970.05   55942.57\n",
       "157  33560.71   35198.45\n",
       "313  64995.23   59638.23\n",
       "422  37709.79   45890.18\n",
       "75   58870.89   48033.17\n",
       "484  37714.88   32254.00\n",
       "625  19419.51   18877.93\n",
       "556  19970.56   20978.46"
      ]
     },
     "execution_count": 52,
     "metadata": {},
     "output_type": "execute_result"
    }
   ],
   "source": [
    "##Rounding up the column price values up to two decimals\n",
    "Bitcoin_Act2Pred[['Actual', 'Predicted']] = Bitcoin_Act2Pred[['Actual', 'Predicted']].round(2)\n",
    "Bitcoin_Act2Pred.head(10)"
   ]
  },
  {
   "cell_type": "code",
   "execution_count": null,
   "id": "8533d6bc",
   "metadata": {},
   "outputs": [],
   "source": []
  }
 ],
 "metadata": {
  "kernelspec": {
   "display_name": "Python 3",
   "language": "python",
   "name": "python3"
  },
  "language_info": {
   "codemirror_mode": {
    "name": "ipython",
    "version": 3
   },
   "file_extension": ".py",
   "mimetype": "text/x-python",
   "name": "python",
   "nbconvert_exporter": "python",
   "pygments_lexer": "ipython3",
   "version": "3.8.8"
  }
 },
 "nbformat": 4,
 "nbformat_minor": 5
}
